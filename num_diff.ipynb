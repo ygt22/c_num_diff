{
 "cells": [
  {
   "cell_type": "code",
   "execution_count": 1,
   "id": "e0155f35",
   "metadata": {
    "scrolled": true
   },
   "outputs": [],
   "source": [
    "# importing required packages\n",
    "import numpy as np\n",
    "import matplotlib.pyplot as plt\n"
   ]
  },
  {
   "cell_type": "code",
   "execution_count": 17,
   "id": "22bc9cd0",
   "metadata": {},
   "outputs": [
    {
     "data": {
      "image/png": "[encoded data removed]",
      "text/plain": [
       "<Figure size 432x288 with 1 Axes>"
      ]
     },
     "metadata": {
      "needs_background": "light"
     },
     "output_type": "display_data"
    }
   ],
   "source": [
    "# Equation 1 and its plotting\n",
    "x1 = np.linspace(-5, 15, num=300)\n",
    "eq1 =2*(x1**2)-(18*x1)+25\n",
    "plt.plot(x1,eq1)\n",
    "plt.title(\"EQ1\")\n",
    "plt.show()\n"
   ]
  },
  {
   "cell_type": "code",
   "execution_count": 18,
   "id": "740e905a",
   "metadata": {},
   "outputs": [
    {
     "data": {
      "image/png": "[encoded data removed]",
      "text/plain": [
       "<Figure size 432x288 with 1 Axes>"
      ]
     },
     "metadata": {
      "needs_background": "light"
     },
     "output_type": "display_data"
    }
   ],
   "source": [
    "# Equation 2 and its plotting\n",
    "x2 = np.linspace(-5, 10, num=300)\n",
    "eq2 =-2.5*(x2**2)+ (9*x2)+45\n",
    "plt.plot(x2,eq2)\n",
    "plt.title(\"EQ2\")\n",
    "plt.show()\n"
   ]
  },
  {
   "cell_type": "code",
   "execution_count": 4,
   "id": "0b750161",
   "metadata": {},
   "outputs": [],
   "source": [
    "# definition of equation 1\n",
    "def _eq1(x):\n",
    "    return 2*(x**2) - (18*x) + 25\n"
   ]
  },
  {
   "cell_type": "code",
   "execution_count": 5,
   "id": "7f5fb347",
   "metadata": {},
   "outputs": [],
   "source": [
    "# definition of equation 2\n",
    "def _eq2(x):\n",
    "    return -2.5*(x**2) + (9*x) + 45\n"
   ]
  },
  {
   "cell_type": "code",
   "execution_count": 6,
   "id": "215f0a9b",
   "metadata": {},
   "outputs": [],
   "source": [
    "# it returns f of x\n",
    "def fnc(f,x):\n",
    "    y = f(x)\n",
    "    return y\n"
   ]
  },
  {
   "cell_type": "code",
   "execution_count": 7,
   "id": "4cbbafae",
   "metadata": {},
   "outputs": [
    {
     "name": "stdout",
     "output_type": "stream",
     "text": [
      "25\n",
      "45.0\n"
     ]
    }
   ],
   "source": [
    "# controlling the function \n",
    "print(fnc(_eq1,0))\n",
    "print(fnc(_eq2,0))\n"
   ]
  },
  {
   "cell_type": "markdown",
   "id": "380bcb51",
   "metadata": {},
   "source": [
    "If x = 0 at equations 1 and 2, the f of x must be 25 and 45 respectively."
   ]
  },
  {
   "cell_type": "code",
   "execution_count": 8,
   "id": "424ba0eb",
   "metadata": {},
   "outputs": [],
   "source": [
    "# definition of method-related function \n",
    "\n",
    "#-------------------descriptions begin\n",
    "# a is the function input value that use to find the derivative of the function at point a.\n",
    "# eq is function and h is step size\n",
    "#-------------------descriptions end\n",
    "\n",
    "def central_dif_2(eq,a,h):\n",
    "    Jp1 = a+h\n",
    "    Jm1 = a-h\n",
    "    d1_fx = ( fnc(eq,Jp1)-fnc(eq,Jm1) ) / (2*h) # +O()\n",
    "    return d1_fx\n"
   ]
  },
  {
   "cell_type": "markdown",
   "id": "bda619fa",
   "metadata": {},
   "source": [
    "For more general knowledge, just search \"Numerical Differentiation\"\n",
    "\n",
    "For knowledge of \"central_dif_2\", just search like \"Central-difference formulas\""
   ]
  },
  {
   "cell_type": "code",
   "execution_count": 13,
   "id": "4e061b2e",
   "metadata": {},
   "outputs": [
    {
     "name": "stdout",
     "output_type": "stream",
     "text": [
      "The value of the first derivative of the equation at point 1.9 is: -0.49999999998107114\n"
     ]
    }
   ],
   "source": [
    "# step size\n",
    "h = 0.0001\n",
    "\n",
    "# dif point \n",
    "a = 1.9\n",
    "\n",
    "# dif around a\n",
    "d1_fx = central_dif_2(_eq2,a,h)\n",
    "print(\"The value of the first derivative of the equation at point \" + str(a) + \" is: \" + str(d1_fx))\n"
   ]
  },
  {
   "cell_type": "code",
   "execution_count": 14,
   "id": "cbe342de",
   "metadata": {},
   "outputs": [
    {
     "name": "stdout",
     "output_type": "stream",
     "text": [
      "Exact solution is: -0.5\n"
     ]
    }
   ],
   "source": [
    "# the first derivative of the equation 2 = -5*x +9\n",
    "\n",
    "# x = 5\n",
    "# d1_eq2 = -5*x + 9\n",
    "\n",
    "d1_eq2 = -5*a + 9\n",
    "print(\"Exact solution is: \" + str(d1_eq2))\n"
   ]
  },
  {
   "cell_type": "code",
   "execution_count": 15,
   "id": "626803a6",
   "metadata": {},
   "outputs": [
    {
     "name": "stdout",
     "output_type": "stream",
     "text": [
      "2.000000000005997\n"
     ]
    }
   ],
   "source": [
    "# step size\n",
    "h = 0.001\n",
    "\n",
    "# dif point \n",
    "a = 5\n",
    "\n",
    "# dif around a\n",
    "d1_fx = central_dif_2(_eq1,a,h)\n",
    "print(d1_fx)\n"
   ]
  },
  {
   "cell_type": "code",
   "execution_count": 16,
   "id": "19b61ad8",
   "metadata": {},
   "outputs": [
    {
     "name": "stdout",
     "output_type": "stream",
     "text": [
      "Exact solution is: 2\n"
     ]
    }
   ],
   "source": [
    "# the first derivative of the equation 1 = 4*x - 18\n",
    "\n",
    "# x = 5\n",
    "# d1_eq1 = 4*x - 18\n",
    "\n",
    "d1_eq1 = 4*a - 18\n",
    "print(\"Exact solution is: \" + str(d1_eq1))"
   ]
  },
  {
   "cell_type": "code",
   "execution_count": null,
   "id": "d6d8e356",
   "metadata": {},
   "outputs": [],
   "source": []
  }
 ],
 "metadata": {
  "kernelspec": {
   "display_name": "Python 3 (ipykernel)",
   "language": "python",
   "name": "python3"
  },
  "language_info": {
   "codemirror_mode": {
    "name": "ipython",
    "version": 3
   },
   "file_extension": ".py",
   "mimetype": "text/x-python",
   "name": "python",
   "nbconvert_exporter": "python",
   "pygments_lexer": "ipython3",
   "version": "3.10.4"
  }
 },
 "nbformat": 4,
 "nbformat_minor": 5
}
